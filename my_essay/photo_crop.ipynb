{
 "cells": [
  {
   "cell_type": "code",
   "execution_count": 3,
   "metadata": {},
   "outputs": [
    {
     "name": "stdout",
     "output_type": "stream",
     "text": [
      "Cropped and saved: 1.png\n",
      "Cropped and saved: 10.png\n",
      "Cropped and saved: 11.png\n",
      "Cropped and saved: 12.png\n",
      "Cropped and saved: 2.png\n",
      "Cropped and saved: 3.png\n",
      "Cropped and saved: 4.png\n",
      "Cropped and saved: 5.png\n",
      "Cropped and saved: 6.png\n",
      "Cropped and saved: 7.png\n",
      "Cropped and saved: 8.png\n",
      "Cropped and saved: 9.png\n"
     ]
    }
   ],
   "source": [
    "import os\n",
    "from PIL import Image\n",
    "\n",
    "def crop_center_third(image):\n",
    "    width, height = image.size\n",
    "    left = width / 3 - width / 15\n",
    "    right = 2 * width / 3 + width / 15\n",
    "    top = 0\n",
    "    bottom = height\n",
    "    return image.crop((left, top, right, bottom))\n",
    "\n",
    "def process_images(input_folder, output_folder):\n",
    "    if not os.path.exists(output_folder):\n",
    "        os.makedirs(output_folder)\n",
    "\n",
    "    for filename in os.listdir(input_folder):\n",
    "        if filename.lower().endswith(('.png', '.jpg', '.jpeg', '.tiff', '.bmp', '.gif')):\n",
    "            image_path = os.path.join(input_folder, filename)\n",
    "            image = Image.open(image_path)\n",
    "            cropped_image = crop_center_third(image)\n",
    "            cropped_image.save(os.path.join(output_folder, filename))\n",
    "            print(f\"Cropped and saved: {filename}\")\n",
    "\n",
    "input_folder = 'images\\wbqblur'\n",
    "output_folder = 'image_phone\\wbqblur'\n",
    "\n",
    "process_images(input_folder, output_folder)"
   ]
  }
 ],
 "metadata": {
  "kernelspec": {
   "display_name": "Python 3",
   "language": "python",
   "name": "python3"
  },
  "language_info": {
   "codemirror_mode": {
    "name": "ipython",
    "version": 3
   },
   "file_extension": ".py",
   "mimetype": "text/x-python",
   "name": "python",
   "nbconvert_exporter": "python",
   "pygments_lexer": "ipython3",
   "version": "3.11.1"
  }
 },
 "nbformat": 4,
 "nbformat_minor": 2
}
